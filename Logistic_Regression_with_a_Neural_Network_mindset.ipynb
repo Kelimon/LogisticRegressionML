{
 "cells": [
  {
   "cell_type": "markdown",
   "metadata": {},
   "source": [
    "# Logistic Regression with a Neural Network mindset\n",
    "\n",
    "Welcome to your programming project! In this project, you will construct a logistic regression classifier to identify chess pieces on a board. This project will help you understand the methodology behind machine learning.\n",
    "\n",
    "\n",
    "## What is Logistic Regression?\n",
    "Logistic Regression, often considered one of the simplest forms of classification algorithms, is a fundamental technique used for binary classification problems – tasks where we aim to categorize entities into one of two distinct groups. In this project, we’ll be using logistic regression to classify images of individual chessboard squares as either ‘occupied’ by a chess piece or ‘empty’.\n",
    "\n",
    "**Instructions:**\n",
    "- Do not use loops (for/while) in your code, unless the instructions explicitly ask you to do so.\n",
    "\n",
    "## Project Overview\n",
    "**In this project, you will:**\n",
    "\n",
    "- Explore a Real Dataset: Work with a dataset containing images of chessboard squares. This real-world dataset will provide a practical scenario for applying logistic regression.\n",
    "- Implement Logistic Regression: Step by step, you’ll implement logistic regression from scratch. This hands-on approach is designed to deepen your understanding of the algorithm and its components.\n",
    "- Draw Connections to Neural Networks: As you progress, we’ll highlight how each step in logistic regression is a building block for neural networks.\n",
    "- Analyze the Results: You will not only build the model but also learn how to evaluate its performance using various metrics – a vital skill in machine learning.\n",
    "\n",
    "**You will learn to:**\n",
    "- Build the general architecture of a learning algorithm, including:\n",
    "    - Initializing parameters\n",
    "    - Calculating the cost function and its gradient\n",
    "    - Using an optimization algorithm (gradient descent) \n",
    "- Gather all three functions above into a main model function, in the right order."
   ]
  },
  {
   "cell_type": "markdown",
   "metadata": {},
   "source": [
    "## 1 - Packages ##\n",
    "\n",
    "First, let's run the cell below to import all the packages that you will need during this assignment. \n",
    "- [numpy](www.numpy.org) is the fundamental package for scientific computing with Python.\n",
    "- [h5py](http://www.h5py.org) is a common package to interact with a dataset that is stored on an H5 file.\n",
    "- [matplotlib](http://matplotlib.org) is a famous library to plot graphs in Python."
   ]
  },
  {
   "cell_type": "code",
   "execution_count": 275,
   "metadata": {},
   "outputs": [],
   "source": [
    "import numpy as np\n",
    "import matplotlib.pyplot as plt\n",
    "import h5py\n",
    "\n",
    "# function from local utility file\n",
    "from lr_utils import load_dataset\n",
    "\n",
    "%matplotlib inline"
   ]
  },
  {
   "cell_type": "markdown",
   "metadata": {},
   "source": [
    "## 2 - Overview of the Problem Set ##\n",
    "\n",
    "**Problem Statement**: You have been provided with a dataset (located in the `datasets` folder) containing H5 files. H5 files are a file format specifically designed for storing and managing large amounts of data efficiently. They are often used in scientific computing contexts as they can accommodate complex data structures and support data compression. In this dataset, H5 files contain:\n",
    "\n",
    "- **A training set** of `m_train` images, each labeled as either:\n",
    "  - **Occupied by a chess piece (`y=1`)** \n",
    "  - **Empty (`y=0`)**\n",
    "\n",
    "- **A test set** of `m_test` images, labeled in the same manner as the training set.\n",
    "\n",
    "- **Image dimensions**: Each image is of shape `(num_px, num_px, 3)`, where `3` stands for the 3 channels (RGB) in each color image. Hence, every image is a square, with both height and width being `num_px`.\n",
    "\n",
    "Your objective is to build a simple image-recognition algorithm that can accurately classify squares on a chessboard as either occupied by a chess piece or empty.\n",
    "\n",
    "\n",
    "**Getting started with the dataset**: Begin by loading the dataset. You can do this by executing the code below:\n"
   ]
  },
  {
   "cell_type": "code",
   "execution_count": 276,
   "metadata": {},
   "outputs": [],
   "source": [
    "# Loading the data \n",
    "train_set_x_orig, train_set_y, test_set_x_orig, test_set_y = load_dataset()"
   ]
  },
  {
   "cell_type": "markdown",
   "metadata": {},
   "source": [
    "We append _orig to the names of our image datasets (train and test) to indicate that these are the original, unprocessed sets of data. As we progress through the project, we'll be applying various preprocessing steps to these images. Once preprocessing is complete, the transformed datasets will be referred to as train_set_x and test_set_x. It's important to note that our label datasets, train_set_y and test_set_y, do not require this preprocessing step.\n",
    "\n",
    "Each line of your train_set_x_orig and test_set_x_orig is an array representing an image. The images contain all chess pieces on both color fields. The trainings set consists of a total of 1121 images. You can visualize an example by running the following code. Feel free also to change the `index` value and re-run to see other images. "
   ]
  },
  {
   "cell_type": "code",
   "execution_count": 277,
   "metadata": {},
   "outputs": [
    {
     "name": "stdout",
     "output_type": "stream",
     "text": [
      "y = 1, it's an 'occupied' chessfield.\n"
     ]
    },
    {
     "data": {
      "image/png": "[encoded data removed]",
      "text/plain": [
       "<Figure size 640x480 with 1 Axes>"
      ]
     },
     "metadata": {},
     "output_type": "display_data"
    }
   ],
   "source": [
    "index = 1120\n",
    "plt.imshow(train_set_x_orig[index])\n",
    "\n",
    "# Check the value of y and assign the appropriate string\n",
    "status = \"empty\" if train_set_y[0, index] == 0 else \"occupied\"\n",
    "\n",
    "# Print the result\n",
    "print(\"y = \" + str(train_set_y[0, index]) + \", it's an '\" + status + \"' chessfield.\")\n"
   ]
  },
  {
   "cell_type": "markdown",
   "metadata": {},
   "source": [
    "Many software bugs in deep learning come from having matrix/vector dimensions that don't fit. If you can keep your matrix/vector dimensions straight you will go a long way toward eliminating many bugs. \n",
    "\n",
    "**Exercise:** Find the values for:\n",
    "   - m_train (number of training examples)\n",
    "   - m_test (number of test examples)\n",
    "   - num_px (= height = width of a training image)\n",
    "Remember that `train_set_x_orig` is a numpy-array of shape (m_train, num_px, num_px, 3). For instance, you can access `m_train` by writing `train_set_x_orig.shape[0]` which will acces the first dimension."
   ]
  },
  {
   "cell_type": "code",
   "execution_count": 278,
   "metadata": {
    "scrolled": true
   },
   "outputs": [
    {
     "name": "stdout",
     "output_type": "stream",
     "text": [
      "Number of training examples: m_train = 1121\n",
      "Number of testing examples: m_test = 184\n",
      "Height/Width of each image: num_px = 64\n",
      "Each image is of size: (64, 64, 3)\n",
      "train_set_x shape: (1121, 64, 64, 3)\n",
      "train_set_y shape: (1, 1121)\n",
      "test_set_x shape: (184, 64, 64, 3)\n",
      "test_set_y shape: (1, 184)\n"
     ]
    }
   ],
   "source": [
    "### START CODE HERE ### (≈ 3 lines of code)\n",
    "m_train = train_set_x_orig.shape[0]\n",
    "m_test = test_set_x_orig.shape[0]\n",
    "num_px = train_set_x_orig.shape[1]\n",
    "### END CODE HERE ###\n",
    "\n",
    "print (\"Number of training examples: m_train = \" + str(m_train))\n",
    "print (\"Number of testing examples: m_test = \" + str(m_test))\n",
    "print (\"Height/Width of each image: num_px = \" + str(num_px))\n",
    "print (\"Each image is of size: (\" + str(num_px) + \", \" + str(num_px) + \", 3)\")\n",
    "print (\"train_set_x shape: \" + str(train_set_x_orig.shape))\n",
    "print (\"train_set_y shape: \" + str(train_set_y.shape))\n",
    "print (\"test_set_x shape: \" + str(test_set_x_orig.shape))\n",
    "print (\"test_set_y shape: \" + str(test_set_y.shape))"
   ]
  },
  {
   "cell_type": "markdown",
   "metadata": {},
   "source": [
    "**Expected Output for m_train, m_test and num_px**: \n",
    "<table style=\"width:15%\">\n",
    "  <tr>\n",
    "    <td>**m_train**</td>\n",
    "    <td> 1121 </td> \n",
    "  </tr>\n",
    "  \n",
    "  <tr>\n",
    "    <td>**m_test**</td>\n",
    "    <td> 184 </td> \n",
    "  </tr>\n",
    "  \n",
    "  <tr>\n",
    "    <td>**num_px**</td>\n",
    "    <td> 64 </td> \n",
    "  </tr>\n",
    "  \n",
    "</table>\n"
   ]
  },
  {
   "cell_type": "markdown",
   "metadata": {},
   "source": [
    "For convenience, you should now reshape images of shape (num_px, num_px, 3) in a numpy-array of shape (num_px $*$ num_px $*$ 3, 1). Flattening the images is a crucial step in preparing our data for logistic regression. In their original form, each image is a 3D array (height, width, color channels), which logistic regression cannot directly handle. By flattening, we transform each image into a 1D array, essentially unrolling the pixel values into a long vector. This simplification allows us to feed the image into the logistic regression algorithm, which expects input data in a vector format. It also ensures that each pixel value in the image becomes a After this, our training (and test) dataset is a numpy-array where each column represents a flattened image. There should be m_train (respectively m_test) columns.\n",
    "\n",
    "**Exercise:** Reshape the training and test data sets so that images of size (num_px, num_px, 3) are flattened into single vectors of shape (num\\_px $*$ num\\_px $*$ 3, 1).\n",
    "\n",
    "A trick when you want to flatten a matrix X of shape (a,b,c,d) to a matrix X_flatten of shape (b $*$ c $*$ d , a) is to use: \n",
    "```python\n",
    "X_flatten = X.reshape(X.shape[0], -1).T      # X.T is the transpose of X\n",
    "```\n",
    "The -1 indicates, that this dimension will be calculated from the shape of the input matrix (only one -1 is possible)."
   ]
  },
  {
   "cell_type": "code",
   "execution_count": 279,
   "metadata": {},
   "outputs": [
    {
     "name": "stdout",
     "output_type": "stream",
     "text": [
      "train_set_x_orig shape: (3, 64, 64, 1121)\n",
      "train_set_y_orig shape: (3, 64, 64, 184)\n",
      "---------------------------------------------------------\n",
      "train_set_x_flatten shape: (12288, 1121)\n",
      "train_set_y shape: (1, 1121)\n",
      "test_set_x_flatten shape: (12288, 184)\n",
      "test_set_y shape: (1, 184)\n"
     ]
    }
   ],
   "source": [
    "# Reshape the training and test examples\n",
    "\n",
    "### START CODE HERE ### (≈ 2 lines of code)\n",
    "train_set_x_flatten = train_set_x_orig.reshape(train_set_x_orig.shape[0], -1).T\n",
    "test_set_x_flatten = test_set_x_orig.reshape(test_set_x_orig.shape[0], -1).T\n",
    "### END CODE HERE ###\n",
    "print (\"train_set_x_orig shape: \" + str(train_set_x_orig.T.shape))\n",
    "print (\"train_set_y_orig shape: \" + str(test_set_x_orig.T.shape))\n",
    "print (\"---------------------------------------------------------\")\n",
    "print (\"train_set_x_flatten shape: \" + str(train_set_x_flatten.shape))\n",
    "print (\"train_set_y shape: \" + str(train_set_y.shape))\n",
    "print (\"test_set_x_flatten shape: \" + str(test_set_x_flatten.shape))\n",
    "print (\"test_set_y shape: \" + str(test_set_y.shape))\n"
   ]
  },
  {
   "cell_type": "markdown",
   "metadata": {},
   "source": [
    "**Expected Output**: \n",
    "\n",
    "<table style=\"width:35%\">\n",
    "  <tr>\n",
    "    <td>**train_set_x_flatten shape**</td>\n",
    "    <td> (12288, 1121)</td> \n",
    "  </tr>\n",
    "  <tr>\n",
    "    <td>**train_set_y shape**</td>\n",
    "    <td>(1, 1121)</td> \n",
    "  </tr>\n",
    "  <tr>\n",
    "    <td>**test_set_x_flatten shape**</td>\n",
    "    <td>(12288, 184)</td> \n",
    "  </tr>\n",
    "  <tr>\n",
    "    <td>**test_set_y shape**</td>\n",
    "    <td>(1, 184)</td> \n",
    "  </tr>\n",
    "</table>"
   ]
  },
  {
   "cell_type": "markdown",
   "metadata": {},
   "source": [
    "Comparing the shapes of the original sets and the flatten sets it becomes clear that number of examples stays the same. The dimensions decrease to two dimensions."
   ]
  },
  {
   "cell_type": "markdown",
   "metadata": {},
   "source": [
    "To represent color images, the red, green and blue channels (RGB) must be specified for each pixel, and so the pixel value is actually a vector of three numbers ranging from 0 to 255.\n",
    "\n",
    "One common preprocessing step in machine learning is to center and standardize your dataset, meaning that you substract the mean of the whole numpy array from each example, and then divide each example by the standard deviation of the whole numpy array. But for picture datasets, it is simpler and more convenient and works almost as well to just divide every row of the dataset by 255 (the maximum value of a pixel channel).\n",
    "\n",
    "<!-- During the training of your model, you're going to multiply weights and add biases to some initial inputs in order to observe neuron activations. Then you backpropogate with the gradients to train the model. But, it is extremely important for each feature to have a similar range such that our gradients don't explode. You will see that more in detail later in the lectures. !--> \n",
    "\n",
    "Let's standardize our dataset."
   ]
  },
  {
   "cell_type": "code",
   "execution_count": 280,
   "metadata": {},
   "outputs": [],
   "source": [
    "train_set_x = train_set_x_flatten/255.\n",
    "test_set_x = test_set_x_flatten/255."
   ]
  },
  {
   "cell_type": "markdown",
   "metadata": {},
   "source": [
    "<font color='red'>\n",
    "**What you need to remember:**\n",
    "\n",
    "Common steps for pre-processing a new dataset are:\n",
    "- Figure out the dimensions and shapes of the problem (m_train, m_test, num_px, ...)\n",
    "- Reshape the datasets such that each example is now a vector of size (num_px \\* num_px \\* 3, 1)\n",
    "- \"Standardize\" the data"
   ]
  },
  {
   "cell_type": "markdown",
   "metadata": {},
   "source": [
    "## 3 - General Architecture of the learning algorithm ##\n",
    "\n",
    "It's time to design a simple algorithm to distinguish cat images from non-cat images.\n",
    "\n",
    "You will build a Logistic Regression, using a Neural Network mindset. The following Figure explains why **Logistic Regression is actually a very simple Neural Network!**\n",
    "\n",
    "<img src=\"images/LogReg_Example.jpg\" style=\"width:650px;height:400px;\">\n",
    "\n",
    "Here the vector on the left represents every RGB values of the image, because we have flattened the images. These intensity values serve as the input features for the logistic regression model. Each feature is associated with a weight. The logistic regression model learns these weights during the training process. The goal is to find the weights that best differentiate between the two classes: occupied and empty chessboard squares.\n",
    "\n",
    "The model computes a weighted sum of the input features, adding the bias term (b) to this sum.\n",
    "This result is then passed through a sigmoid function σ. The sigmoid function takes the linear combination of weights and features and maps it to a probability value between 0 and 1. This probability is indicative of the model's confidence in whether the chessboard square is occupied or not.\n",
    "\n",
    "In this specific case, the output probability (0.73 in the example) suggests that the model is confident that the field is occupied. This is because the probability is higher than the typical threshold of 0.5 used for binary classification. If the output probability were below 0.5, the model would predict that the field is likely empty.\n",
    "\n",
    "**Mathematical expression of the algorithm**:\n",
    "\n",
    "For one example $x^{(i)}$:\n",
    "$$z^{(i)} = w^T x^{(i)} + b \\tag{1}$$\n",
    "$$\\hat{y}^{(i)} = a^{(i)} = sigmoid(z^{(i)})\\tag{2}$$ \n",
    "$$ \\mathcal{L}(a^{(i)}, y^{(i)}) =  - y^{(i)}  \\log(a^{(i)}) - (1-y^{(i)} )  \\log(1-a^{(i)})\\tag{3}$$\n",
    "\n",
    "The cost is then computed by summing over all training examples:\n",
    "$$ J = \\frac{1}{m} \\sum_{i=1}^m \\mathcal{L}(a^{(i)}, y^{(i)})\\tag{6}$$\n",
    "\n",
    "**Key steps**:\n",
    "In this exercise, you will carry out the following steps: \n",
    "   - Initialize the parameters of the model\n",
    "   - Learn the parameters for the model by minimizing the cost  \n",
    "   - Use the learned parameters to make predictions (on the test set)\n",
    "   - Analyse the results and conclude"
   ]
  },
  {
   "cell_type": "markdown",
   "metadata": {},
   "source": [
    "## 4 - Building the parts of our algorithm ## \n",
    "\n",
    "The main steps for building a Neural Network are:\n",
    "1. Define the model structure (such as number of input features) \n",
    "2. Initialize the model's parameters\n",
    "3. Loop:\n",
    "    - Calculate current loss (forward propagation)\n",
    "    - Calculate current gradient (backward propagation)\n",
    "    - Update parameters (gradient descent)\n",
    "\n",
    "You often build 1-3 separately and integrate them into one function we call `model()`.\n",
    "\n",
    "### 4.1 - Helper functions\n",
    "\n",
    "**Exercise**: Using your code from \"Python Basics\", implement `sigmoid()`. As you've seen in the figure above, you need to compute $sigmoid( w^T x + b) = \\frac{1}{1 + e^{-(w^T x + b)}}$ to make predictions. Use np.exp()."
   ]
  },
  {
   "cell_type": "code",
   "execution_count": 281,
   "metadata": {},
   "outputs": [],
   "source": [
    "# GRADED FUNCTION: sigmoid\n",
    "\n",
    "def sigmoid(z):\n",
    "    \"\"\"\n",
    "    Compute the sigmoid of z\n",
    "\n",
    "    Arguments:\n",
    "    z -- A scalar or numpy array of any size.\n",
    "\n",
    "    Return:\n",
    "    s -- sigmoid(z)\n",
    "    \"\"\"\n",
    "\n",
    "    ### START CODE HERE ### (≈ 1 line of code)\n",
    "    s = 1/(1+np.exp(-z))\n",
    "    ### END CODE HERE ###\n",
    "    \n",
    "    return s"
   ]
  },
  {
   "cell_type": "code",
   "execution_count": 282,
   "metadata": {
    "scrolled": true
   },
   "outputs": [
    {
     "name": "stdout",
     "output_type": "stream",
     "text": [
      "sigmoid([-5, 0, 4]) = [0.00669285 0.5        0.98201379]\n"
     ]
    }
   ],
   "source": [
    "print (\"sigmoid([-5, 0, 4]) = \" + str(sigmoid(np.array([-5, 0, 4]))))"
   ]
  },
  {
   "cell_type": "markdown",
   "metadata": {},
   "source": [
    "**Expected Output**: \n",
    "\n",
    "<table>\n",
    "  <tr>\n",
    "    <td>**sigmoid([-5, 0, 4])**</td>\n",
    "    <td> [0.00669285    0.5         0.98201379]</td> \n",
    "  </tr>\n",
    "</table>"
   ]
  },
  {
   "cell_type": "markdown",
   "metadata": {},
   "source": [
    "### 4.2 - Initializing parameters\n",
    "\n",
    "In machine learning algorithms, particularly those that are iterative in nature like logistic regression, initializing parameters is a necessary step before the learning process begins. Parameters, in this case the weights (w) and bias (b), are the values that the model will adjust to fit the data.\n",
    "\n",
    "Initializing the weight vector w to zeros is a simple and commonly used strategy. It provides a starting point for the algorithm to start learning. The bias term b is typically initialized to zero as well.\n",
    "\n",
    "**Exercise:** Implement parameter initialization in the cell below. You have to initialize w as a vector of zeros. If you don't know what numpy function to use, look up np.zeros() in the Numpy library's documentation."
   ]
  },
  {
   "cell_type": "code",
   "execution_count": 283,
   "metadata": {},
   "outputs": [],
   "source": [
    "# GRADED FUNCTION: initialize_with_zeros\n",
    "\n",
    "def initialize_with_zeros(dim):\n",
    "    \"\"\"\n",
    "    Initializes a weight vector and bias term to zeros.\n",
    "    \n",
    "    Parameter:\n",
    "    dim -- the number of features or parameters\n",
    "    \n",
    "    Returns:\n",
    "    w -- a weight vector of zeros with shape (dim, 1)\n",
    "    b -- a bias term initialized to 0\n",
    "    \"\"\"\n",
    "    \n",
    "    ### START CODE HERE ### (≈ 1 line of code)\n",
    "    w, b = np.zeros((dim, 1)), 0\n",
    "    ### END CODE HERE ###\n",
    "\n",
    "    assert(w.shape == (dim, 1))\n",
    "    assert(isinstance(b, float) or isinstance(b, int))\n",
    "    \n",
    "    return w, b"
   ]
  },
  {
   "cell_type": "code",
   "execution_count": 284,
   "metadata": {},
   "outputs": [
    {
     "name": "stdout",
     "output_type": "stream",
     "text": [
      "w = [[0.]\n",
      " [0.]]\n",
      "b = 0\n"
     ]
    }
   ],
   "source": [
    "dim = 2\n",
    "w, b = initialize_with_zeros(dim)\n",
    "print (\"w = \" + str(w))\n",
    "print (\"b = \" + str(b))"
   ]
  },
  {
   "cell_type": "markdown",
   "metadata": {},
   "source": [
    "**Expected Output**: \n",
    "\n",
    "\n",
    "<table style=\"width:15%\">\n",
    "    <tr>\n",
    "        <td>  ** w **  </td>\n",
    "        <td> [[ 0.]\n",
    " [ 0.]] </td>\n",
    "    </tr>\n",
    "    <tr>\n",
    "        <td>  ** b **  </td>\n",
    "        <td> 0 </td>\n",
    "    </tr>\n",
    "</table>\n",
    "\n",
    "For image inputs, w will be of shape (num_px $\\times$ num_px $\\times$ 3, 1)."
   ]
  },
  {
   "cell_type": "markdown",
   "metadata": {},
   "source": [
    "### 4.3 - Forward and Backward propagation\n",
    "\n",
    "Now that your parameters are initialized, you can do the \"forward\" and \"backward\" propagation steps for learning the parameters.\n",
    "\n",
    "**Exercise:** Implement a function `propagate()` that computes the cost function and its gradient.\n",
    "\n",
    "**Hints**:\n",
    "\n",
    "Forward Propagation:\n",
    "- You get X\n",
    "- You compute $A = \\sigma(w^T X + b) = (a^{(1)}, a^{(2)}, ..., a^{(m-1)}, a^{(m)})$\n",
    "- You calculate the cost function: $J = -\\frac{1}{m}\\sum_{i=1}^{m}y^{(i)}\\log(a^{(i)})+(1-y^{(i)})\\log(1-a^{(i)})$\n",
    "\n",
    "Here are the two formulas you will be using: \n",
    "\n",
    "$$ \\frac{\\partial J}{\\partial w} = \\frac{1}{m}X(A-Y)^T\\tag{7}$$\n",
    "$$ \\frac{\\partial J}{\\partial b} = \\frac{1}{m} \\sum_{i=1}^m (a^{(i)}-y^{(i)})\\tag{8}$$"
   ]
  },
  {
   "cell_type": "code",
   "execution_count": 285,
   "metadata": {},
   "outputs": [],
   "source": [
    "# GRADED FUNCTION: propagate\n",
    "def propagate(w, b, X, Y):\n",
    "    \"\"\"\n",
    "    Calculate the logistic regression cost and its gradients using the propagation as described.\n",
    "\n",
    "    Parameters:\n",
    "    w -- weights, a numpy vector with dimensions (num_px * num_px * 3, 1)\n",
    "    b -- bias, a scalar\n",
    "    X -- image data of shape (num_px * num_px * 3, number of samples)\n",
    "    Y -- true \"label\" vector (0 for an empty field, 1 for an occupied field) with dimensions (1, number of samples)\n",
    "\n",
    "    Returns:\n",
    "    cost -- the computed cost for logistic regression using negative log-likelihood\n",
    "    dw -- the gradient of the cost with respect to the weights, has the same shape as w\n",
    "    db -- the gradient of the cost with respect to the bias, a scalar\n",
    "    \"\"\"\n",
    "        \n",
    "    # FORWARD AND BACKWARD PROPAGATION (FROM X TO COST)\n",
    "    ### START CODE HERE ### (≈ 6 lines of code)\n",
    "    z = np.dot(w.T, X) + b\n",
    "    a = sigmoid(z)\n",
    "    cost = -1/X.shape[1] * np.sum(Y * np.log(a) + (1 - Y) * np.log(1 - a))\n",
    "    dz = a - Y\n",
    "    dw = 1/X.shape[1] * np.dot(X, dz.T)\n",
    "    db = 1/X.shape[1] * np.sum(dz)\n",
    "    ### END CODE HERE ###\n",
    "\n",
    "    assert(dw.shape == w.shape)\n",
    "    assert(db.dtype == float)\n",
    "    assert(np.isscalar(cost))\n",
    "    \n",
    "    grads = {\"dw\": dw,\n",
    "             \"db\": db}\n",
    "    \n",
    "    return grads, cost"
   ]
  },
  {
   "cell_type": "code",
   "execution_count": 286,
   "metadata": {},
   "outputs": [
    {
     "name": "stdout",
     "output_type": "stream",
     "text": [
      "dw = [[0.46025175]\n",
      " [0.4373645 ]]\n",
      "db = 0.290931552424722\n",
      "cost = 1.678319357071308\n"
     ]
    }
   ],
   "source": [
    "w, b, X, Y = np.array([[0.5],[1.]]), 3., np.array([[1.2,1.8,-1.6],[1.3,3.5,-0.2]]), np.array([[0,1,1]])\n",
    "grads, cost = propagate(w, b, X, Y)\n",
    "print (\"dw = \" + str(grads[\"dw\"]))\n",
    "print (\"db = \" + str(grads[\"db\"]))\n",
    "print (\"cost = \" + str(cost))"
   ]
  },
  {
   "cell_type": "markdown",
   "metadata": {},
   "source": [
    "**Expected Output**:\n",
    "\n",
    "<table style=\"width:50%\">\n",
    "    <tr>\n",
    "        <td>  ** dw **  </td>\n",
    "      <td> [[0.46025175]\n",
    "     [0.4373645 ]]</td>\n",
    "    </tr>\n",
    "    <tr>\n",
    "        <td>  ** db **  </td>\n",
    "        <td> 0.290931552424722 </td>\n",
    "    </tr>\n",
    "    <tr>\n",
    "        <td>  ** cost **  </td>\n",
    "        <td> 1.678319357071308 </td>\n",
    "    </tr>\n",
    "\n",
    "</table>"
   ]
  },
  {
   "cell_type": "markdown",
   "metadata": {},
   "source": [
    "### 4.4 - Optimization\n",
    "- You have initialized your parameters.\n",
    "- You are also able to compute a cost function and its gradient.\n",
    "- Now, you want to update the parameters using gradient descent.\n",
    "\n",
    "**Exercise:** Write down the optimization function. The goal is to learn $w$ and $b$ by minimizing the cost function $J$. For a parameter $\\theta$, the update rule is $ \\theta = \\theta - \\alpha \\text{ } d\\theta$, where $\\alpha$ is the learning rate."
   ]
  },
  {
   "cell_type": "code",
   "execution_count": 287,
   "metadata": {},
   "outputs": [],
   "source": [
    "# GRADED FUNCTION: optimize\n",
    "\n",
    "def optimize(w, b, X, Y, num_iterations, learning_rate, print_cost = True):\n",
    "    \"\"\"\n",
    "    This function optimizes w and b by running a gradient descent algorithm\n",
    "    \n",
    "    Parameters:\n",
    "    w -- weights, a numpy vector with dimensions (num_px * num_px * 3, 1)\n",
    "    b -- bias, a single number\n",
    "    X -- matrix of features, shaped (num_px * num_px * 3, number of samples)\n",
    "    Y -- vector of actual labels (0 for empty, 1 for occupied), sized (1, number of samples)\n",
    "    num_iterations -- how many iterations to run the optimization loop\n",
    "    learning_rate -- the rate at which the model learns, influences parameter updates\n",
    "    print_cost -- if set to True, prints the calculated cost at every 100 iterations\n",
    "    \n",
    "    Returns:\n",
    "    params -- dictionary with updated weights w and bias b\n",
    "    grads -- dictionary with the gradients of the weights and bias with respect to the cost function\n",
    "    costs -- list of costs computed during optimization, recorded every 100 iterations, useful for plotting the learning curve.\n",
    "\n",
    "    Tips:\n",
    "    The main steps involve:\n",
    "        1) Computing the cost and its gradient at the current parameter values.\n",
    "        2) Applying the gradient descent update rule to modify w and b.\n",
    "    \"\"\"\n",
    "    costs = []\n",
    "    \n",
    "    ### START CODE HERE ### (≈ 11 lines of code)\n",
    "    for i in range(num_iterations):\n",
    "        grads, cost = propagate(w, b, X, Y)\n",
    "        dw = grads[\"dw\"]\n",
    "        db = grads[\"db\"]\n",
    "        w -= learning_rate*dw\n",
    "        b -= learning_rate*db\n",
    "        if(i % 99 == 0):\n",
    "            costs.append(cost)\n",
    "            if(print_cost):\n",
    "                print(\"cost is: \" + str(cost))\n",
    "    ### END CODE HERE ###\n",
    "\n",
    "    params = {\"w\": w,\n",
    "              \"b\": b}\n",
    "    \n",
    "    grads = {\"dw\": dw,\n",
    "             \"db\": db}\n",
    "    \n",
    "    return params, grads, costs"
   ]
  },
  {
   "cell_type": "code",
   "execution_count": 288,
   "metadata": {},
   "outputs": [
    {
     "name": "stdout",
     "output_type": "stream",
     "text": [
      "cost is: 1.678319357071308\n",
      "cost is: 1.441106096055766\n",
      "cost is: 1.2148735999875389\n",
      "cost is: 1.0083707677499505\n",
      "cost is: 0.8399060279289882\n",
      "cost is: 0.729182063845233\n",
      "cost is: 0.6715570207478901\n",
      "cost is: 0.6418183622886431\n",
      "w = [[-0.73026143]\n",
      " [-0.00298337]]\n",
      "b = 2.0868580518713187\n",
      "dw = [[ 0.1370139 ]\n",
      " [-0.03481397]]\n",
      "db = 0.13828942049129783\n"
     ]
    }
   ],
   "source": [
    "params, grads, costs = optimize(w, b, X, Y, num_iterations = 750, learning_rate = 0.005, print_cost = True)\n",
    "\n",
    "print (\"w = \" + str(params[\"w\"]))\n",
    "print (\"b = \" + str(params[\"b\"]))\n",
    "print (\"dw = \" + str(grads[\"dw\"]))\n",
    "print (\"db = \" + str(grads[\"db\"]))"
   ]
  },
  {
   "cell_type": "markdown",
   "metadata": {},
   "source": [
    "**Expected Output**:\n",
    " \n",
    "w = [[-0.73026143]\n",
    " [-0.00298337]]\n",
    "\n",
    "b = 2.0868580518713187\n",
    "\n",
    "dw = [[ 0.1370139 ]\n",
    " [-0.03481397]]\n",
    " \n",
    "db = 0.13828942049129783"
   ]
  },
  {
   "cell_type": "code",
   "execution_count": 289,
   "metadata": {},
   "outputs": [
    {
     "data": {
      "text/plain": [
       "[<matplotlib.lines.Line2D at 0x24de29b0d10>]"
      ]
     },
     "execution_count": 289,
     "metadata": {},
     "output_type": "execute_result"
    },
    {
     "data": {
      "image/png": "[encoded data removed]",
      "text/plain": [
       "<Figure size 640x480 with 1 Axes>"
      ]
     },
     "metadata": {},
     "output_type": "display_data"
    }
   ],
   "source": [
    "import matplotlib.pyplot as plt\n",
    "plt.plot(costs)"
   ]
  },
  {
   "cell_type": "markdown",
   "metadata": {},
   "source": [
    "### Predict ###\n",
    "\n",
    "In the context of logistic regression, prediction is about determining the label of new data points based on the learned parameters (weights and bias). The predict function does exactly that.\n",
    "\n",
    "**Exercise:** The previous function will output the learned w and b. We are able to use w and b to predict the labels for a dataset X. Implement the `predict()` function. There are two steps to computing predictions:\n",
    "\n",
    "1. Calculate $\\hat{Y} = A = \\sigma(w^T X + b)$\n",
    "\n",
    "2. Convert the entries of A into 0 (if activation <= 0.5) or 1 (if activation > 0.5), stores the predictions in a vector `Y_prediction`. If you wish, you can use an `if`/`else` statement in a `for` loop (though there is also a way to vectorize this). "
   ]
  },
  {
   "cell_type": "code",
   "execution_count": 290,
   "metadata": {},
   "outputs": [],
   "source": [
    "# GRADED FUNCTION: predict\n",
    "\n",
    "def predict(w, b, X):\n",
    "    '''\n",
    "    Predict the labels for a given dataset X using the logistic regression parameters w and b.\n",
    "    \n",
    "    Parameters:\n",
    "    w -- weights, a numpy array with dimensions (num_px * num_px * 3, 1)\n",
    "    b -- bias, a single number\n",
    "    X -- dataset of flattened images, where each column corresponds to a single example\n",
    "    \n",
    "    Returns:\n",
    "    Y_prediction -- a numpy array containing the predicted labels for each example in X\n",
    "    '''\n",
    "    \n",
    "    m = X.shape[1]\n",
    "    Y_prediction = np.zeros((1,m))\n",
    "    w = w.reshape(X.shape[0], 1)    # make sure w has the right dimensions\n",
    "    \n",
    "    # Compute vector \"A\" predicting the probabilities of a cat being present in the picture\n",
    "    \n",
    "    ### START CODE HERE ### (≈ 2+ lines of code)\n",
    "    Y_prediction = sigmoid(np.dot(w.T, X) + b)\n",
    "    Y_prediction = (Y_prediction > 0.5).astype(float)\n",
    "    \n",
    "    ### END CODE HERE ###\n",
    "\n",
    "    assert(Y_prediction.shape == (1, m))\n",
    "    \n",
    "    return Y_prediction"
   ]
  },
  {
   "cell_type": "code",
   "execution_count": 291,
   "metadata": {},
   "outputs": [
    {
     "name": "stdout",
     "output_type": "stream",
     "text": [
      "predictions = [[1. 0. 0.]]\n"
     ]
    }
   ],
   "source": [
    "w = np.array([[0.3946109],[0.14099536]])\n",
    "b = -0.4\n",
    "X = np.array([[2.,-1.4,-2.1],[2.9,2.3,0.2]])\n",
    "print (\"predictions = \" + str(predict(w, b, X)))"
   ]
  },
  {
   "cell_type": "markdown",
   "metadata": {},
   "source": [
    "**Expected Output**: \n",
    "\n",
    "<table style=\"width:30%\">\n",
    "    <tr>\n",
    "         <td>\n",
    "             **predictions**\n",
    "         </td>\n",
    "          <td>\n",
    "            [[ 1.  0.  0.]]\n",
    "         </td>  \n",
    "   </tr>\n",
    "\n",
    "</table>\n"
   ]
  },
  {
   "cell_type": "markdown",
   "metadata": {},
   "source": [
    "<font color='red'>\n",
    "**What to remember:**\n",
    "You've implemented several functions that:\n",
    "\n",
    "- Initialize (w,b)\n",
    "\n",
    "- Optimize the loss iteratively to learn parameters (w,b):\n",
    "\n",
    "    - computing the cost and its gradient \n",
    "    \n",
    "    - updating the parameters using gradient descent\n",
    "\n",
    "- Use the learned (w,b) to predict the labels for a given set of examples"
   ]
  },
  {
   "cell_type": "markdown",
   "metadata": {},
   "source": [
    "## 5 - Merge all functions into a model ##\n",
    "\n",
    "You will now see how the overall model is structured by putting together all the building blocks (functions implemented in the previous parts) together, in the right order.\n",
    "\n",
    "**Exercise:** Implement the model function. Use the following notation:\n",
    "\n",
    "    - Y_prediction_test for your predictions on the test set\n",
    "\n",
    "    - Y_prediction_train for your predictions on the train set\n",
    "    \n",
    "    - w, costs, grads for the outputs of optimize()"
   ]
  },
  {
   "cell_type": "code",
   "execution_count": 292,
   "metadata": {},
   "outputs": [],
   "source": [
    "# GRADED FUNCTION: model\n",
    "\n",
    "def model(X_train, Y_train, X_test, Y_test, num_iterations = 2000, learning_rate = 0.5, print_cost = False):\n",
    "    \"\"\"\n",
    "    Construct the logistic regression model using defined functions.\n",
    "    \n",
    "    Parameters:\n",
    "    X_train -- input features for the training set, numpy array of shape (num_px * num_px * 3, m_train)\n",
    "    Y_train -- true labels for the training set, numpy array of shape (1, m_train)\n",
    "    X_test -- input features for the test set, numpy array of shape (num_px * num_px * 3, m_test)\n",
    "    Y_test -- true labels for the test set, numpy array of shape (1, m_test)\n",
    "    num_iterations -- number of iterations for the optimization loop\n",
    "    learning_rate -- step size for updating the weights in each iteration\n",
    "    print_cost -- if True, the function prints the cost every 100\n",
    "    \n",
    "    Returns:\n",
    "    d -- dictionary containing weights, bias, information on the learning rate, number of iterations, and training and test predictions.        \n",
    "    \"\"\"\n",
    "    \n",
    "    ### START CODE HERE ###\n",
    "    \n",
    "    # initialize w and b\n",
    "    w, b = initialize_with_zeros(X_train.shape[0])\n",
    "\n",
    "    #optimize w and b\n",
    "    params, grad, costs = optimize(w, b, X_train, Y_train, num_iterations, learning_rate, print_cost)\n",
    "    w_trained = params[\"w\"]\n",
    "    b_trained = params[\"b\"]\n",
    "\n",
    "    #estimate prediction of train and test set\n",
    "    Y_prediction_test = predict(w_trained, b_trained, X_test)\n",
    "    Y_prediction_train = predict(w_trained, b_trained, X_train)\n",
    "    ### END CODE HERE ###\n",
    "\n",
    "    # Print train/test Errors\n",
    "    print(\"train accuracy: {} %\".format(100 - np.mean(np.abs(Y_prediction_train - Y_train)) * 100))\n",
    "    print(\"test accuracy: {} %\".format(100 - np.mean(np.abs(Y_prediction_test - Y_test)) * 100))\n",
    "    \n",
    "    d = {\"costs\": costs,\n",
    "         \"Y_prediction_test\": Y_prediction_test, \n",
    "         \"Y_prediction_train\" : Y_prediction_train, \n",
    "         \"w\" : w, \n",
    "         \"b\" : b,\n",
    "         \"learning_rate\" : learning_rate,\n",
    "         \"num_iterations\": num_iterations}\n",
    "    \n",
    "    return d"
   ]
  },
  {
   "cell_type": "markdown",
   "metadata": {},
   "source": [
    "Run the following cell to train your model."
   ]
  },
  {
   "cell_type": "code",
   "execution_count": 293,
   "metadata": {},
   "outputs": [
    {
     "name": "stdout",
     "output_type": "stream",
     "text": [
      "train accuracy: 96.96699375557537 %\n",
      "test accuracy: 64.13043478260869 %\n"
     ]
    }
   ],
   "source": [
    "d = model(train_set_x, train_set_y, test_set_x, test_set_y, num_iterations = 2000, learning_rate = 0.005, print_cost = False)\n"
   ]
  },
  {
   "cell_type": "markdown",
   "metadata": {},
   "source": [
    "**Expected Output**: \n",
    "\n",
    "train accuracy: 96.96699375557537 %\n",
    "\n",
    "test accuracy: 64.13043478260869 %"
   ]
  },
  {
   "cell_type": "markdown",
   "metadata": {},
   "source": [
    "**Comment**: The training accuracy of our model has reached 97%. This indicates that our model has a strong ability to fit the data it has been trained on. An accuracy this high suggests that the model has sufficient complexity to capture the underlying patterns in the training set. However, achieving near-perfect training accuracy can sometimes be a warning sign of overfitting, where the model learns the training data too well, including noise and outliers.\n",
    "\n",
    "On the other hand, the test accuracy stands at 64%. Although this might seem low compared to the training accuracy, it's relatively common for simpler models like logistic regression, which are linear classifiers, to have a lower performance on the test set. This discrepancy further points\n",
    "\n",
    "towards overfitting since it indicates the model does not generalize as well on unseen data. The test accuracy is a more genuine measure of how the model will perform in real-world scenarios or when it encounters data that it wasn't trained on.\n",
    "\n",
    "The drop from 97% accuracy on the training set to 64% on the test set is a clear indicator that the model has learned specific features of the training data which do not apply to the broader set of data in the field. There are methods, such as regularization, which helps to create a model that generalizes better by penalizing overly complex models. These techniques will aim to narrow the gap between training and test performance, ensuring that our model not only learns well but also applies that learning effectively to new data."
   ]
  },
  {
   "cell_type": "markdown",
   "metadata": {},
   "source": [
    "Let's also plot the cost function and the gradients."
   ]
  },
  {
   "cell_type": "code",
   "execution_count": 294,
   "metadata": {},
   "outputs": [
    {
     "data": {
      "image/png": "[encoded data removed]",
      "text/plain": [
       "<Figure size 640x480 with 1 Axes>"
      ]
     },
     "metadata": {},
     "output_type": "display_data"
    }
   ],
   "source": [
    "# Plot learning curve (with costs)\n",
    "costs = d['costs']\n",
    "plt.plot(costs)\n",
    "plt.ylabel('cost')\n",
    "plt.xlabel('iterations (per hundreds)')\n",
    "plt.title(\"Learning rate =\" + str(d[\"learning_rate\"]))\n",
    "plt.show()"
   ]
  },
  {
   "cell_type": "markdown",
   "metadata": {},
   "source": [
    "**Interpretation**:\n",
    "You can see the cost decreasing. It shows that the parameters are being learned. However, you see that you could train the model even more on the training set. Try to increase the number of iterations in the cell above and rerun the cells. You might see that the training set accuracy goes up, but the test set accuracy goes down. This is called overfitting. "
   ]
  },
  {
   "cell_type": "markdown",
   "metadata": {},
   "source": [
    "## 6 - Further analysis ##\n",
    "\n",
    "Congratulations on building your first image classification model. Let's analyze it further, and examine possible choices for the learning rate $\\alpha$. "
   ]
  },
  {
   "cell_type": "markdown",
   "metadata": {},
   "source": [
    "#### Choice of learning rate ####\n",
    "\n",
    "**Reminder**:\n",
    "In order for Gradient Descent to work you must choose the learning rate wisely. The learning rate $\\alpha$  determines how rapidly we update the parameters. If the learning rate is too large we may \"overshoot\" the optimal value. Similarly, if it is too small we will need too many iterations to converge to the best values. That's why it is crucial to use a well-tuned learning rate.\n",
    "\n",
    "Let's compare the learning curve of our model with several choices of learning rates in combination with number of iterations. Run the cell below. This can take about 1-2 minutes. Feel free also to try different values for the learning_rates array and the num_iterations array. It will calculate every combination with the values of the arrays."
   ]
  },
  {
   "cell_type": "code",
   "execution_count": 295,
   "metadata": {},
   "outputs": [
    {
     "name": "stdout",
     "output_type": "stream",
     "text": [
      "learning rate is: 0.01 and number of iterations is: 250\n",
      "train accuracy: 95.53969669937555 %\n",
      "test accuracy: 64.13043478260869 %\n",
      "\n",
      "-------------------------------------------------------\n",
      "\n",
      "learning rate is: 0.001 and number of iterations is: 250\n",
      "train accuracy: 94.29081177520071 %\n",
      "test accuracy: 65.21739130434783 %\n",
      "\n",
      "-------------------------------------------------------\n",
      "\n",
      "learning rate is: 0.0001 and number of iterations is: 250\n",
      "train accuracy: 94.29081177520071 %\n",
      "test accuracy: 65.21739130434783 %\n",
      "\n",
      "-------------------------------------------------------\n",
      "\n",
      "learning rate is: 0.01 and number of iterations is: 500\n",
      "train accuracy: 96.25334522747546 %\n",
      "test accuracy: 64.13043478260869 %\n",
      "\n",
      "-------------------------------------------------------\n",
      "\n",
      "learning rate is: 0.001 and number of iterations is: 500\n",
      "train accuracy: 94.11239964317573 %\n",
      "test accuracy: 65.21739130434783 %\n",
      "\n",
      "-------------------------------------------------------\n",
      "\n",
      "learning rate is: 0.0001 and number of iterations is: 500\n",
      "train accuracy: 94.29081177520071 %\n",
      "test accuracy: 65.21739130434783 %\n",
      "\n",
      "-------------------------------------------------------\n",
      "\n",
      "learning rate is: 0.01 and number of iterations is: 2000\n",
      "train accuracy: 97.94826048171275 %\n",
      "test accuracy: 65.76086956521739 %\n",
      "\n",
      "-------------------------------------------------------\n",
      "\n",
      "learning rate is: 0.001 and number of iterations is: 2000\n",
      "train accuracy: 95.1828724353256 %\n",
      "test accuracy: 64.13043478260869 %\n",
      "\n",
      "-------------------------------------------------------\n",
      "\n",
      "learning rate is: 0.0001 and number of iterations is: 2000\n",
      "train accuracy: 94.29081177520071 %\n",
      "test accuracy: 65.21739130434783 %\n",
      "\n",
      "-------------------------------------------------------\n",
      "\n"
     ]
    },
    {
     "data": {
      "image/png": "[encoded data removed]",
      "text/plain": [
       "<Figure size 640x480 with 1 Axes>"
      ]
     },
     "metadata": {},
     "output_type": "display_data"
    }
   ],
   "source": [
    "learning_rates = [0.01, 0.001, 0.0001]\n",
    "num_iterations = [250, 500, 2000]\n",
    "models = {}\n",
    "for s in num_iterations:\n",
    "    for i in learning_rates:\n",
    "        print (\"learning rate is: \" + str(i) + \" and number of iterations is: \" +str(s))\n",
    "        models[str(i)] = model(train_set_x, train_set_y, test_set_x, test_set_y, num_iterations = s, learning_rate = i, print_cost = False)\n",
    "        print ('\\n' + \"-------------------------------------------------------\" + '\\n')\n",
    "for i in learning_rates:\n",
    "    plt.plot(models[str(i)][\"costs\"], label= str(models[str(i)][\"learning_rate\"]))\n",
    "\n",
    "plt.ylabel('cost')\n",
    "plt.xlabel('iterations (hundreds)')\n",
    "\n",
    "legend = plt.legend(loc='upper center', shadow=True)\n",
    "frame = legend.get_frame()\n",
    "frame.set_facecolor('0.90')\n",
    "plt.show()"
   ]
  },
  {
   "cell_type": "markdown",
   "metadata": {},
   "source": [
    "**Interpretation**: \n",
    "- The learning rates and the number of iterations are critical hyperparameters that significantly impact the performance and outcome of our model. This experiment shows how different combinations of these parameters can lead to varying costs and, consequently, different prediction results.\n",
    "- A high learning rate may cause the cost to fluctuate intensely or even diverge, as the steps taken in the gradient descent are too large and miss the minimum of the cost function.\n",
    "- A lower cost doesn't mean a better model. You have to check if there is possibly overfitting. It happens when the training accuracy is a lot higher than the test accuracy.\n",
    "- In deep learning, we usually recommend that you: \n",
    "    - Choose the learning rate that better minimizes the cost function.\n",
    "    - If your model overfits, use other techniques to reduce overfitting. (We'll talk about this in later videos.) \n"
   ]
  },
  {
   "cell_type": "markdown",
   "metadata": {},
   "source": [
    "<font color='red'>\n",
    "**What to remember from this assignment:**\n",
    "\n",
    "1. Preprocessing the dataset is important.\n",
    "\n",
    "2. You implemented each function separately: initialize(), propagate(), optimize(). Then you built a model().\n",
    "\n",
    "3. Tuning the learning rate (which is an example of a \"hyperparameter\") can make a big difference to the algorithm. You will see more examples of this later in this course!"
   ]
  }
 ],
 "metadata": {
  "coursera": {
   "course_slug": "neural-networks-deep-learning",
   "graded_item_id": "XaIWT",
   "launcher_item_id": "zAgPl"
  },
  "kernelspec": {
   "display_name": "Python 3.9.7 ('base')",
   "language": "python",
   "name": "python3"
  },
  "language_info": {
   "codemirror_mode": {
    "name": "ipython",
    "version": 3
   },
   "file_extension": ".py",
   "mimetype": "text/x-python",
   "name": "python",
   "nbconvert_exporter": "python",
   "pygments_lexer": "ipython3",
   "version": "3.11.5"
  },
  "varInspector": {
   "cols": {
    "lenName": 16,
    "lenType": 16,
    "lenVar": 40
   },
   "kernels_config": {
    "python": {
     "delete_cmd_postfix": "",
     "delete_cmd_prefix": "del ",
     "library": "var_list.py",
     "varRefreshCmd": "print(var_dic_list())"
    },
    "r": {
     "delete_cmd_postfix": ") ",
     "delete_cmd_prefix": "rm(",
     "library": "var_list.r",
     "varRefreshCmd": "cat(var_dic_list()) "
    }
   },
   "oldHeight": 213.4,
   "position": {
    "height": "235.4px",
    "left": "1160px",
    "right": "20px",
    "top": "126px",
    "width": "350px"
   },
   "types_to_exclude": [
    "module",
    "function",
    "builtin_function_or_method",
    "instance",
    "_Feature"
   ],
   "varInspector_section_display": "block",
   "window_display": false
  },
  "vscode": {
   "interpreter": {
    "hash": "6799e7e6e89494309c785b2fed7aebe4a2f2c0f72cd7c4ffc06f24c1b25da289"
   }
  }
 },
 "nbformat": 4,
 "nbformat_minor": 2
}
